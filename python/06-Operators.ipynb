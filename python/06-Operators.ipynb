{
 "cells": [
  {
   "cell_type": "markdown",
   "metadata": {},
   "source": [
    "Manipulating fermionic operators\n",
    "================================\n",
    "\n",
    "Before we see how to use a CTQMC impurity solver, it will be useful to learn about operators. Indeed, one of the\n",
    "inputs of the CTQMC solver is a Hamiltonian in operator form.\n",
    "\n",
    "Fundamental operators\n",
    "---------------------\n",
    "\n",
    "After importing the operator module, the keyword `c_dag` and `c` allow to define a new fermionic\n",
    "operator. `c_dag` and `c` are followed by two indices. Inspired by the block structure of Green's functions,\n",
    "the first index is a block index, while the second is the index within the block. Here's an example\n",
    "of operators as they would be defined if we had two blocks *up* and *down* of size 1:"
   ]
  },
  {
   "cell_type": "code",
   "execution_count": 1,
   "metadata": {
    "collapsed": false
   },
   "outputs": [
    {
     "name": "stdout",
     "output_type": "stream",
     "text": [
      "1*C^+(up,0)\n",
      "1*C(up,0)\n",
      "1*C^+(down,0)\n",
      "1*C(down,0)\n"
     ]
    }
   ],
   "source": [
    "from pytriqs.operators import c, c_dag, n, Operator # n and Operator will be needed later\n",
    "print c_dag('up',0)\n",
    "print c('up',0)\n",
    "print c_dag('down',0)\n",
    "print c('down',0)"
   ]
  },
  {
   "cell_type": "markdown",
   "metadata": {},
   "source": [
    "Number operator\n",
    "---------------\n",
    "\n",
    "The keyword `n` is defined as $C^\\dagger C$"
   ]
  },
  {
   "cell_type": "code",
   "execution_count": 2,
   "metadata": {
    "collapsed": false
   },
   "outputs": [
    {
     "name": "stdout",
     "output_type": "stream",
     "text": [
      "1*C^+(up,0)C(up,0)\n"
     ]
    }
   ],
   "source": [
    "print n('up',0)"
   ]
  },
  {
   "cell_type": "markdown",
   "metadata": {},
   "source": [
    "Operations with operators\n",
    "-------------------------\n",
    "\n",
    "Operators can be manipulated and anti-commutation relations will be used to simplify\n",
    "expressions"
   ]
  },
  {
   "cell_type": "code",
   "execution_count": 3,
   "metadata": {
    "collapsed": false
   },
   "outputs": [
    {
     "name": "stdout",
     "output_type": "stream",
     "text": [
      "0\n"
     ]
    }
   ],
   "source": [
    "# Should give 0\n",
    "print n('up',0) - c_dag('up',0)*c('up',0)"
   ]
  },
  {
   "cell_type": "code",
   "execution_count": 4,
   "metadata": {
    "collapsed": false
   },
   "outputs": [
    {
     "name": "stdout",
     "output_type": "stream",
     "text": [
      "-1*C^+(up,0)C(up,0)\n"
     ]
    }
   ],
   "source": [
    "# Some calculation\n",
    "print n('up',0) - 2 * c_dag('up',0)*c('up',0)"
   ]
  },
  {
   "cell_type": "code",
   "execution_count": 5,
   "metadata": {
    "collapsed": false
   },
   "outputs": [
    {
     "name": "stdout",
     "output_type": "stream",
     "text": [
      "-3*C^+(down,0)C(down,0) + -3*C^+(up,0)C(up,0) + 4*C^+(down,0)C^+(up,0)C(up,0)C(down,0)\n"
     ]
    }
   ],
   "source": [
    "# Define the parameters\n",
    "U = 4\n",
    "mu = 3\n",
    "\n",
    "# H is an empty operator\n",
    "H = Operator()\n",
    "\n",
    "# Add elements to define a Hamiltonian\n",
    "H += U * n('up',0) * n('down',0)\n",
    "H -= mu * (n('up',0) + n('down',0))\n",
    "print H"
   ]
  },
  {
   "cell_type": "code",
   "execution_count": 11,
   "metadata": {
    "collapsed": false
   },
   "outputs": [
    {
     "name": "stdout",
     "output_type": "stream",
     "text": [
      "4.0\n"
     ]
    }
   ],
   "source": [
    "for fact in H:\n",
    "    if len(fact[0])==4: print fact[1]"
   ]
  },
  {
   "cell_type": "code",
   "execution_count": null,
   "metadata": {
    "collapsed": true
   },
   "outputs": [],
   "source": []
  }
 ],
 "metadata": {
  "kernelspec": {
   "display_name": "Python 2",
   "language": "python",
   "name": "python2"
  },
  "language_info": {
   "codemirror_mode": {
    "name": "ipython",
    "version": 2
   },
   "file_extension": ".py",
   "mimetype": "text/x-python",
   "name": "python",
   "nbconvert_exporter": "python",
   "pygments_lexer": "ipython2",
   "version": "2.7.12"
  },
  "widgets": {
   "state": {},
   "version": "1.1.1"
  }
 },
 "nbformat": 4,
 "nbformat_minor": 0
}
