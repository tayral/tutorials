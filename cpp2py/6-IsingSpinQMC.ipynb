{
 "cells": [
  {
   "cell_type": "code",
   "execution_count": null,
   "metadata": {
    "collapsed": false,
    "run_control": {
     "frozen": false,
     "read_only": false
    }
   },
   "outputs": [],
   "source": [
    "%reload_ext pytriqs.magic"
   ]
  },
  {
   "cell_type": "code",
   "execution_count": null,
   "metadata": {
    "collapsed": false,
    "run_control": {
     "frozen": false,
     "read_only": false
    }
   },
   "outputs": [],
   "source": [
    "from pytriqs.utility import mpi"
   ]
  },
  {
   "cell_type": "code",
   "execution_count": null,
   "metadata": {
    "collapsed": false,
    "run_control": {
     "frozen": false,
     "read_only": false
    },
    "scrolled": false
   },
   "outputs": [],
   "source": [
    "%%triqs --only qmc\n",
    "#include <triqs/mc_tools/mc_generic.hpp>\n",
    "#include <triqs/utility/callbacks.hpp>\n",
    "\n",
    "// --------------- configuration : a spin +1, -1 ---------------\n",
    "\n",
    "struct configuration {\n",
    " int spin = -1;\n",
    "};\n",
    "\n",
    "// --------------- a move: flip the spin ---------------\n",
    "struct flip {\n",
    " configuration* config;\n",
    " double beta_h;\n",
    "\n",
    " flip(configuration* config_, double beta, double h) : config(config_), beta_h(beta * h) {}\n",
    "\n",
    " double attempt() { return std::exp(-2 * config->spin * beta_h); }\n",
    "\n",
    " double accept() {\n",
    "  config->spin *= -1;\n",
    "  return 1.0;\n",
    " }\n",
    "\n",
    " void reject() {}\n",
    "};\n",
    "\n",
    "//  ----------------- a measurement: the magnetization ------------\n",
    "class compute_m {\n",
    " configuration const * config;\n",
    " double& avg_magn;\n",
    " double Z = 0, M = 0;\n",
    " public:   \n",
    "\n",
    " compute_m(configuration* config_, double& avg_magn) : config(config_), avg_magn(avg_magn) {}\n",
    "\n",
    " void accumulate(double sign) {\n",
    "  Z += sign;\n",
    "  M += sign * config->spin;\n",
    " }\n",
    "\n",
    " void collect_results(triqs::mpi::communicator c) {\n",
    "  avg_magn = M/Z;\n",
    " }\n",
    "};\n",
    "\n",
    "//  ----------------- main ------------\n",
    "\n",
    "double qmc(double beta, double field) { \n",
    "  \n",
    " triqs::mpi::communicator world;\n",
    "    \n",
    " // #parameters of the Monte Carlo\n",
    " int n_cycles = 5000000;\n",
    " int length_cycle = 10;\n",
    " int n_warmup_cycles = 10000;\n",
    " std::string random_name = \"\";\n",
    " int random_seed = 374982 + world.rank() * 273894;\n",
    " int verbosity = (world.rank() == 0 ? 2 : 0);\n",
    "\n",
    " // #Generic Monte Carlo\n",
    " triqs::mc_tools::mc_generic<double> SpinMC(random_name, random_seed, 1.0, verbosity);\n",
    "\n",
    " configuration config;\n",
    " double mag;\n",
    "\n",
    " // #add moves and measures\n",
    " SpinMC.add_move(flip(&config, beta, field), \"flip move\");\n",
    " SpinMC.add_measure(compute_m(&config, mag), \"magnetization measure\");\n",
    "\n",
    " // #Run and collect results\n",
    " SpinMC.warmup_and_accumulate(n_warmup_cycles, n_cycles, length_cycle, triqs::utility::clock_callback(600));\n",
    " SpinMC.collect_results(world);\n",
    " //std::cout << \"Finished calculation for field = \" << field << \".\" << std::endl;\n",
    " return mag;\n",
    "}\n"
   ]
  },
  {
   "cell_type": "code",
   "execution_count": null,
   "metadata": {
    "collapsed": false,
    "run_control": {
     "frozen": false,
     "read_only": false
    }
   },
   "outputs": [],
   "source": [
    "import numpy as np\n",
    "X = np.arange(0.1,2,0.2)\n",
    "r = [qmc(2, h) for h in X]"
   ]
  },
  {
   "cell_type": "code",
   "execution_count": null,
   "metadata": {
    "collapsed": false,
    "run_control": {
     "frozen": false,
     "read_only": false
    }
   },
   "outputs": [],
   "source": [
    "%matplotlib inline \n",
    "import matplotlib.pyplot as plt\n",
    "r_theo = [(1- np.exp(-2 * 2*h))/ (1+ np.exp(-2 * 2*h)) for h in X]\n",
    "plt.plot(X, r, '-o', label='Calculated')\n",
    "plt.plot(X, r_theo, label='Theoretical')\n",
    "plt.xlim(0,2)\n",
    "plt.ylim(0,1)\n",
    "plt.legend()"
   ]
  },
  {
   "cell_type": "code",
   "execution_count": null,
   "metadata": {
    "collapsed": true,
    "run_control": {
     "frozen": false,
     "read_only": false
    }
   },
   "outputs": [],
   "source": []
  }
 ],
 "metadata": {
  "kernelspec": {
   "display_name": "Python 2",
   "language": "python",
   "name": "python2"
  },
  "language_info": {
   "codemirror_mode": {
    "name": "ipython",
    "version": 2
   },
   "file_extension": ".py",
   "mimetype": "text/x-python",
   "name": "python",
   "nbconvert_exporter": "python",
   "pygments_lexer": "ipython2",
   "version": "2.7.12"
  },
  "widgets": {
   "state": {},
   "version": "1.1.2"
  }
 },
 "nbformat": 4,
 "nbformat_minor": 0
}
